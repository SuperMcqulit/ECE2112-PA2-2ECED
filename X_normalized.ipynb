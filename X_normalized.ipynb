{
 "cells": [
  {
   "cell_type": "code",
   "execution_count": 7,
   "id": "7c92c5f1-a223-4a15-b8d8-065e126a36b2",
   "metadata": {},
   "outputs": [
    {
     "name": "stdout",
     "output_type": "stream",
     "text": [
      "[[-0.68983198  0.29309526 -0.99112078  1.529191   -1.71335535]\n",
      " [-0.48349162 -1.12908911 -0.23523965  0.52228773 -0.69283069]\n",
      " [ 0.25070069 -1.04538645 -1.36644976  0.65331351 -0.16762919]\n",
      " [-0.29578745 -0.39031816  0.46145794  1.00267272  1.74074197]\n",
      " [-1.12268723  1.80960977  1.67029921  0.6939449  -0.30409728]]\n"
     ]
    }
   ],
   "source": [
    "#Start of the Program\n",
    "#Import necessary Program Language\n",
    "import numpy as np\n",
    "\n",
    "#Create a random ndarray and store variable X\n",
    "X = np.random.random((5, 5))\n",
    "\n",
    "#Computation for the mean and standard deviation of variable X\n",
    "mean = np.mean(X)\n",
    "dev = np.std(X)\n",
    "\n",
    "#Normalize variable X using the formula given \"Z = (X - xbar) / std\"\n",
    "Z = (X - mean) / dev\n",
    "\n",
    "#Print or Display the normalized variables\n",
    "print(Z)"
   ]
  },
  {
   "cell_type": "code",
   "execution_count": null,
   "id": "3ae5a80e-5215-4240-a753-80988c64b2dc",
   "metadata": {},
   "outputs": [],
   "source": []
  }
 ],
 "metadata": {
  "kernelspec": {
   "display_name": "Python 3 (ipykernel)",
   "language": "python",
   "name": "python3"
  },
  "language_info": {
   "codemirror_mode": {
    "name": "ipython",
    "version": 3
   },
   "file_extension": ".py",
   "mimetype": "text/x-python",
   "name": "python",
   "nbconvert_exporter": "python",
   "pygments_lexer": "ipython3",
   "version": "3.12.4"
  }
 },
 "nbformat": 4,
 "nbformat_minor": 5
}
